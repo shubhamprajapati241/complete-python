{
 "cells": [
  {
   "cell_type": "markdown",
   "metadata": {},
   "source": [
    "## Lambda function \n",
    "- Lambda function are small anonymous functions defined using the lambda keyword. \n",
    "- Anonymous functions are functions without name\n",
    "- They can have any number of arguments but only one expression. \n",
    "- They ar commonly used for short operations or as argumnet to higher-order functions "
   ]
  },
  {
   "cell_type": "code",
   "execution_count": null,
   "metadata": {},
   "outputs": [],
   "source": [
    "## Syntax \n",
    "lambda argumens : expression"
   ]
  },
  {
   "cell_type": "code",
   "execution_count": 4,
   "metadata": {},
   "outputs": [
    {
     "name": "stdout",
     "output_type": "stream",
     "text": [
      "3\n",
      "3\n"
     ]
    }
   ],
   "source": [
    "def addition(a,b) :\n",
    "    return a + b \n",
    "print(addition(1,2))\n",
    "\n",
    "## writing above function using lambda\n",
    "addition = lambda a,b : a+b\n",
    "print(addition(1,2))"
   ]
  },
  {
   "cell_type": "code",
   "execution_count": 8,
   "metadata": {},
   "outputs": [
    {
     "name": "stdout",
     "output_type": "stream",
     "text": [
      "True\n",
      "None\n",
      "True\n"
     ]
    }
   ],
   "source": [
    "def even(num):\n",
    "    if num%2 == 0:\n",
    "        return True\n",
    "\n",
    "print(even(2))\n",
    "print(even(3))\n",
    "\n",
    "even1 = lambda num : num%2 == 0\n",
    "print(even1(4))"
   ]
  },
  {
   "cell_type": "markdown",
   "metadata": {},
   "source": [
    "## Map Function\n",
    "- Map function applies a given function to all items in an input list (or any other iterable) and returns a map objec (an iterator)\n",
    "- This is particularly useful for transforming data in list comprehensively."
   ]
  },
  {
   "cell_type": "code",
   "execution_count": 9,
   "metadata": {},
   "outputs": [
    {
     "data": {
      "text/plain": [
       "[1, 4, 9, 16, 25, 36, 49, 64]"
      ]
     },
     "execution_count": 9,
     "metadata": {},
     "output_type": "execute_result"
    }
   ],
   "source": [
    "numbers = [1,2,3,4,5,6,7,8] # iterable \n",
    "\n",
    "def square(num): \n",
    "    return num * num \n",
    "\n",
    "list(map(square, numbers))"
   ]
  },
  {
   "cell_type": "code",
   "execution_count": 10,
   "metadata": {},
   "outputs": [
    {
     "name": "stdout",
     "output_type": "stream",
     "text": [
      "[5, 7, 9]\n"
     ]
    }
   ],
   "source": [
    "# Map with Multiple iterables \n",
    "number1 = [1,2,3]\n",
    "number2 = [4,5,6]\n",
    "\n",
    "add = list(map(lambda a,b : a+b, number1, number2))\n",
    "print(add)"
   ]
  },
  {
   "cell_type": "code",
   "execution_count": 11,
   "metadata": {},
   "outputs": [
    {
     "data": {
      "text/plain": [
       "[1, 2, 3, 4]"
      ]
     },
     "execution_count": 11,
     "metadata": {},
     "output_type": "execute_result"
    }
   ],
   "source": [
    "## Use map() o convert a list of string to integer\n",
    "\n",
    "str_number = ['1','2','3','4']\n",
    "\n",
    "int_numbers = list(map(int, str_number))\n",
    "int_numbers"
   ]
  },
  {
   "cell_type": "code",
   "execution_count": 12,
   "metadata": {},
   "outputs": [
    {
     "data": {
      "text/plain": [
       "['John', 'Jinni']"
      ]
     },
     "execution_count": 12,
     "metadata": {},
     "output_type": "execute_result"
    }
   ],
   "source": [
    "def get_name(people):\n",
    "    return people['name']\n",
    "\n",
    "peoples = [\n",
    "    {\"name\" : \"John\", \"age\" : 30},\n",
    "    {\"name\" : \"Jinni\", \"age\" : 35}\n",
    "]\n",
    "\n",
    "list(map(get_name, peoples))"
   ]
  },
  {
   "cell_type": "markdown",
   "metadata": {},
   "source": [
    "## Filter functions\n",
    "- The filter function constructs an iterator from elements of a iterable for which a function return true, \n",
    "- It is used to filter out items from a list (or any other iterable) based on condition"
   ]
  },
  {
   "cell_type": "code",
   "execution_count": 2,
   "metadata": {},
   "outputs": [
    {
     "data": {
      "text/plain": [
       "[2, 4, 6, 8]"
      ]
     },
     "execution_count": 2,
     "metadata": {},
     "output_type": "execute_result"
    }
   ],
   "source": [
    "numbers = [1,2,3,4,5,6,7,8,9]\n",
    "\n",
    "def even(num):\n",
    "    if num%2 == 0:\n",
    "        return True\n",
    "\n",
    "list(filter(even, numbers))"
   ]
  },
  {
   "cell_type": "code",
   "execution_count": 4,
   "metadata": {},
   "outputs": [
    {
     "data": {
      "text/plain": [
       "[6, 7, 8, 9]"
      ]
     },
     "execution_count": 4,
     "metadata": {},
     "output_type": "execute_result"
    }
   ],
   "source": [
    "## filter with lambda function \n",
    "greater_than_five = list(filter(lambda x:x>5, numbers))\n",
    "greater_than_five"
   ]
  },
  {
   "cell_type": "code",
   "execution_count": 5,
   "metadata": {},
   "outputs": [
    {
     "data": {
      "text/plain": [
       "[6, 8]"
      ]
     },
     "execution_count": 5,
     "metadata": {},
     "output_type": "execute_result"
    }
   ],
   "source": [
    "## Filters with lambda function and multiple conditions \n",
    "numbers = [1,2,3,4,5,6,7,8,9]\n",
    "even_and_greater_than_five = list(filter(lambda x:x>5 and x%2 ==0, numbers))\n",
    "even_and_greater_than_five"
   ]
  },
  {
   "cell_type": "code",
   "execution_count": 7,
   "metadata": {},
   "outputs": [
    {
     "data": {
      "text/plain": [
       "[{'name': 'Jinni', 'age': 35}]"
      ]
     },
     "execution_count": 7,
     "metadata": {},
     "output_type": "execute_result"
    }
   ],
   "source": [
    "## Filter to check if age is greater than 18 in dictionary\n",
    "\n",
    "peoples = [\n",
    "    {\"name\" : \"John\", \"age\" : 13},\n",
    "    {\"name\" : \"Jinni\", \"age\" : 35}\n",
    "]\n",
    "\n",
    "list(filter(lambda x:x['age']>18, peoples))\n"
   ]
  },
  {
   "cell_type": "code",
   "execution_count": null,
   "metadata": {},
   "outputs": [],
   "source": []
  }
 ],
 "metadata": {
  "kernelspec": {
   "display_name": "Python 3",
   "language": "python",
   "name": "python3"
  },
  "language_info": {
   "codemirror_mode": {
    "name": "ipython",
    "version": 3
   },
   "file_extension": ".py",
   "mimetype": "text/x-python",
   "name": "python",
   "nbconvert_exporter": "python",
   "pygments_lexer": "ipython3",
   "version": "3.10.15"
  }
 },
 "nbformat": 4,
 "nbformat_minor": 2
}
