{
 "cells": [
  {
   "cell_type": "code",
   "execution_count": null,
   "metadata": {},
   "outputs": [],
   "source": []
  },
  {
   "cell_type": "markdown",
   "metadata": {},
   "source": [
    "## To be covered:\n",
    "1. Introduction to functions\n",
    "2. Defining functions\n",
    "3. Calling functions \n",
    "4. Default parameters\n",
    "5. Variable-length arguments \n",
    "6. Return Statements "
   ]
  },
  {
   "cell_type": "markdown",
   "metadata": {},
   "source": [
    "## Introduction to functions\n",
    "- A function is a block of code that performs a specific task.\n",
    "- Functions help in organizing code, reusing code and improving readability. "
   ]
  },
  {
   "cell_type": "code",
   "execution_count": 1,
   "metadata": {},
   "outputs": [],
   "source": [
    "## Syntax of functions\n",
    "def function_name(parameters):\n",
    "    \"\"\"DocString\"\"\"\n",
    "    # function body\n",
    "    return expresson"
   ]
  },
  {
   "cell_type": "code",
   "execution_count": 3,
   "metadata": {},
   "outputs": [
    {
     "name": "stdout",
     "output_type": "stream",
     "text": [
      "20 is even\n"
     ]
    }
   ],
   "source": [
    "## Function to check number is even or odd\n",
    "def even_or_odd(num):\n",
    "    \"\"\"This function finds even or odd\"\"\"\n",
    "    if num%2 == 0:\n",
    "        print(f\"{num} is even\")\n",
    "    else:\n",
    "        print(f\"{num} is odd\")\n",
    "\n",
    "## calling the function\n",
    "even_or_odd(20)"
   ]
  },
  {
   "cell_type": "code",
   "execution_count": 4,
   "metadata": {},
   "outputs": [
    {
     "name": "stdout",
     "output_type": "stream",
     "text": [
      "11\n"
     ]
    }
   ],
   "source": [
    "## Functons with multiple parameters\n",
    "def add(a,b):\n",
    "    return a + b\n",
    "\n",
    "result = add(4,7)\n",
    "print(result)"
   ]
  },
  {
   "cell_type": "code",
   "execution_count": 7,
   "metadata": {},
   "outputs": [
    {
     "name": "stdout",
     "output_type": "stream",
     "text": [
      "Hello Guest\n",
      "Hello John\n"
     ]
    }
   ],
   "source": [
    "## Default parameters \n",
    "def greet(name=\"Guest\"):\n",
    "    print(f\"Hello {name}\")\n",
    "\n",
    "greet()\n",
    "greet(\"John\")"
   ]
  },
  {
   "cell_type": "code",
   "execution_count": 9,
   "metadata": {},
   "outputs": [
    {
     "name": "stdout",
     "output_type": "stream",
     "text": [
      "1\n",
      "2\n",
      "3\n",
      "4\n",
      "5\n",
      "John\n",
      "name : John\n",
      "age : 32\n",
      "country : India\n"
     ]
    }
   ],
   "source": [
    "## Variable length arguments \n",
    "# 1. Positional arguments\n",
    "def print_numbers(*args):\n",
    "    for number in args:\n",
    "        print(number)\n",
    "\n",
    "print_numbers(1,2,3,4,5,\"John\")\n",
    "\n",
    "# 2. Keyword arguments \n",
    "def print_details(**kwards):\n",
    "    for key,value in kwards.items():\n",
    "        print(f\"{key} : {value}\")\n",
    "\n",
    "print_details(name=\"John\", age = 32, country = \"India\")\n"
   ]
  },
  {
   "cell_type": "code",
   "execution_count": 11,
   "metadata": {},
   "outputs": [
    {
     "name": "stdout",
     "output_type": "stream",
     "text": [
      "Positional arguments : 1\n",
      "Positional arguments : 2\n",
      "Positional arguments : 3\n",
      "Positional arguments : 4\n",
      "Positional arguments : 5\n",
      "Positional arguments : John\n",
      "name : John\n",
      "age : 32\n",
      "country : India\n"
     ]
    }
   ],
   "source": [
    "## Variable length arguments - Posiional and keyword arguments\n",
    "\n",
    "# 1. Positional arguments\n",
    "def print_numbers(*args, **kwargs):\n",
    "    for number in args:\n",
    "        print(f\"Positional arguments : {number}\")\n",
    "\n",
    "    for key,value in kwargs.items():\n",
    "        print(f\"{key} : {value}\")\n",
    "\n",
    "print_numbers(1,2,3,4,5,\"John\", name=\"John\", age = 32, country = \"India\")\n"
   ]
  },
  {
   "cell_type": "code",
   "execution_count": 14,
   "metadata": {},
   "outputs": [
    {
     "name": "stdout",
     "output_type": "stream",
     "text": [
      "20\n"
     ]
    },
    {
     "data": {
      "text/plain": [
       "(20, 4)"
      ]
     },
     "execution_count": 14,
     "metadata": {},
     "output_type": "execute_result"
    }
   ],
   "source": [
    "## Return statements \n",
    "def multiplyer(a,b):\n",
    "    return a *b\n",
    "print(multiplyer(4,5))\n",
    "\n",
    "# returning multiple arguments\n",
    "def multiplyer(a,b):\n",
    "    return a *b,a \n",
    "\n",
    "multiplyer(4,5)\n",
    "\n"
   ]
  }
 ],
 "metadata": {
  "kernelspec": {
   "display_name": "Python 3",
   "language": "python",
   "name": "python3"
  },
  "language_info": {
   "codemirror_mode": {
    "name": "ipython",
    "version": 3
   },
   "file_extension": ".py",
   "mimetype": "text/x-python",
   "name": "python",
   "nbconvert_exporter": "python",
   "pygments_lexer": "ipython3",
   "version": "3.10.15"
  }
 },
 "nbformat": 4,
 "nbformat_minor": 2
}
