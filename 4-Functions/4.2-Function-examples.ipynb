{
 "cells": [
  {
   "cell_type": "code",
   "execution_count": 2,
   "metadata": {},
   "outputs": [
    {
     "name": "stdout",
     "output_type": "stream",
     "text": [
      "77.0\n",
      "25.0\n"
     ]
    }
   ],
   "source": [
    "## 1. Temperature coversion between Celius and Fahrenheit\n",
    "def convert_temparature(temp, unit):\n",
    "    \"\"\"This function converts temperature between Celcius and Fahreheits\"\"\"\n",
    "    if unit == \"C\":\n",
    "        return temp * 9/5 + 32 ## Celcius to Fahrenheit\n",
    "    elif unit == \"F\":\n",
    "        return (temp - 32) * 5/9 ## Fahrenheit to Celcius \n",
    "    else:\n",
    "        return None \n",
    "\n",
    "print(convert_temparature(25, \"C\"))\n",
    "print(convert_temparature(77, \"F\"))"
   ]
  },
  {
   "cell_type": "code",
   "execution_count": 3,
   "metadata": {},
   "outputs": [
    {
     "data": {
      "text/plain": [
       "True"
      ]
     },
     "execution_count": 3,
     "metadata": {},
     "output_type": "execute_result"
    }
   ],
   "source": [
    "## 2. Password Strength Checker\n",
    "def is_strong_password(password):\n",
    "    \"\"\"This function checks if the password is string or not\"\"\"\n",
    "    if len(password) < 8:\n",
    "        return False\n",
    "    if not any(char.isdigit() for char in password):\n",
    "        return False \n",
    "    if not any(char.islower() for char in password):\n",
    "        return False \n",
    "    if not any(char.islower() for char in password):\n",
    "        return False \n",
    "    if not any(char in \"!@#$%^&*\" for char in password):\n",
    "        return False \n",
    "    return True \n",
    "\n",
    "is_strong_password(\"John@123\")"
   ]
  },
  {
   "cell_type": "code",
   "execution_count": 7,
   "metadata": {},
   "outputs": [
    {
     "name": "stdout",
     "output_type": "stream",
     "text": [
      "160\n"
     ]
    }
   ],
   "source": [
    "## 3. Calculate the total cost of items in a shopping cart\n",
    "def calculate_total_cost(cart):\n",
    "    total = 0\n",
    "    for item in cart:\n",
    "        total += item['price'] * item['quantity']\n",
    "    return total\n",
    "\n",
    "carts = [\n",
    "    {\"name\" : \"Apple\" , \"price\" :  10, \"quantity\" : 6},\n",
    "    {\"name\" : \"Banana\" , \"price\" : 60, \"quantity\" : 1},\n",
    "    {\"name\" : \"Guava\", \"price\" : 20, \"quantity\" : 2}\n",
    "]\n",
    "\n",
    "print(calculate_total_cost(carts))"
   ]
  },
  {
   "cell_type": "code",
   "execution_count": 11,
   "metadata": {},
   "outputs": [
    {
     "name": "stdout",
     "output_type": "stream",
     "text": [
      "True\n",
      "False\n"
     ]
    }
   ],
   "source": [
    "# 4. String s Palindrome or not\n",
    "def is_palindrome(string):\n",
    "    string = string.lower().replace(\" \", \"\")\n",
    "    return string == string[::-1]\n",
    "   \n",
    "print(is_palindrome(\"asdsa\"))\n",
    "print(is_palindrome(\"asds0a\"))\n"
   ]
  },
  {
   "cell_type": "code",
   "execution_count": 13,
   "metadata": {},
   "outputs": [
    {
     "name": "stdout",
     "output_type": "stream",
     "text": [
      "{'asdh': 1, 'dfgh': 1, 'hghfdf': 1, 'is': 2, 'a': 1}\n"
     ]
    }
   ],
   "source": [
    "# 5. Function to read a file and count the frequency of each word \n",
    "def count_word_frequency(file_path):\n",
    "    word_count = {}\n",
    "    with open(file_path, 'r') as file:\n",
    "        for line in file: \n",
    "            words = line.split()\n",
    "            for word in words:\n",
    "                word = word.lower().strip('.,!?,:\"\\'')\n",
    "                word_count[word] = word_count.get(word, 0) + 1\n",
    "    return word_count \n",
    "\n",
    "file_path = 'file.txt' \n",
    "count = count_word_frequency(file_path)\n",
    "print(count)\n",
    "\n"
   ]
  }
 ],
 "metadata": {
  "kernelspec": {
   "display_name": "Python 3",
   "language": "python",
   "name": "python3"
  },
  "language_info": {
   "codemirror_mode": {
    "name": "ipython",
    "version": 3
   },
   "file_extension": ".py",
   "mimetype": "text/x-python",
   "name": "python",
   "nbconvert_exporter": "python",
   "pygments_lexer": "ipython3",
   "version": "3.10.15"
  }
 },
 "nbformat": 4,
 "nbformat_minor": 2
}
