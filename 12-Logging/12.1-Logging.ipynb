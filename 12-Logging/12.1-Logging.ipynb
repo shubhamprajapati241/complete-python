{
 "cells": [
  {
   "cell_type": "markdown",
   "metadata": {},
   "source": [
    "## Logging\n",
    "- Logging is a crucial aspect of an application, providing a way to track events, error and operational information. \n",
    "- Python's built-in logging module offers a flexible framework for emiting log messages from python programs. \n",
    "\n",
    "#### Logging levels \n",
    "1. DEBUG : Detailed information. typlicaly of interest only when diagnosing problems.\n",
    "2. INFO : Confirmation that things are working as expected. \n",
    "3. WARNING : An indication that something unexpexted happened or indicative of some problem in near future (e.g. disk space low). This sofware will still work as expected.\n",
    "4. ERROR : Due to a more serious problem, the software has not been able to perform some function\n",
    "5. CRITICAL : A very serious error, indicating that the program itself may be unable to continue running"
   ]
  },
  {
   "cell_type": "code",
   "execution_count": 1,
   "metadata": {},
   "outputs": [],
   "source": [
    "# import logging \n",
    "# logging.basicConfig(\n",
    "#     filename='app.log',\n",
    "#     filemode='w',\n",
    "#     level=logging.DEBUG,\n",
    "#     format='%(asctime)s-%(name)-%(levelname)s-%(message)s',\n",
    "#     datefmt='%Y-%m-%d %H:%M:%S'             \n",
    "# )\n",
    "\n",
    "import logging\n",
    "\n",
    "logging.basicConfig(\n",
    "    filename='app.log',\n",
    "    filemode='w',\n",
    "    level=logging.DEBUG,\n",
    "    format='%(asctime)s - %(name)s - %(levelname)s - %(message)s',\n",
    "    datefmt='%Y-%m-%d %H:%M:%S'\n",
    ")\n"
   ]
  },
  {
   "cell_type": "code",
   "execution_count": 2,
   "metadata": {},
   "outputs": [],
   "source": [
    "## Configure the basic logging settings\n",
    "logging.debug(\"This is a debug message\")\n",
    "logging.info(\"this is a info message\")\n",
    "logging.warning(\"this is a warning message\")\n",
    "logging.error(\"this is an error message\")\n",
    "logging.critical(\"this is a critical message\")"
   ]
  },
  {
   "cell_type": "markdown",
   "metadata": {},
   "source": []
  }
 ],
 "metadata": {
  "kernelspec": {
   "display_name": "Python 3",
   "language": "python",
   "name": "python3"
  },
  "language_info": {
   "codemirror_mode": {
    "name": "ipython",
    "version": 3
   },
   "file_extension": ".py",
   "mimetype": "text/x-python",
   "name": "python",
   "nbconvert_exporter": "python",
   "pygments_lexer": "ipython3",
   "version": "3.10.15"
  }
 },
 "nbformat": 4,
 "nbformat_minor": 2
}
