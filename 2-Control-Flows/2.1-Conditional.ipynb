{
 "cells": [
  {
   "cell_type": "markdown",
   "metadata": {},
   "source": [
    "## Conditional Statements - if, elif, else\n",
    "\n",
    "To be learn:\n",
    "1. Introduction to Conditional Statements\n",
    "2. if statements\n",
    "3. else statemnts\n",
    "4. elif statements\n",
    "5. Nested conditional statements\n",
    "6. Practical example\n",
    "7. Common errors and best practices"
   ]
  },
  {
   "cell_type": "code",
   "execution_count": 1,
   "metadata": {},
   "outputs": [
    {
     "name": "stdout",
     "output_type": "stream",
     "text": [
      "You can vote\n"
     ]
    }
   ],
   "source": [
    "## if statements \n",
    "age = 20 \n",
    "if age > 18:\n",
    "    print(\"You can vote\")"
   ]
  },
  {
   "cell_type": "code",
   "execution_count": 2,
   "metadata": {},
   "outputs": [
    {
     "name": "stdout",
     "output_type": "stream",
     "text": [
      "Sorry you can't vote\n"
     ]
    }
   ],
   "source": [
    "## if-else statements \n",
    "age = 12 \n",
    "if age > 18:\n",
    "    print(\"You can vote\")\n",
    "else:\n",
    "    print(\"Sorry you can't vote\")"
   ]
  },
  {
   "cell_type": "code",
   "execution_count": 3,
   "metadata": {},
   "outputs": [
    {
     "name": "stdout",
     "output_type": "stream",
     "text": [
      "number is positive\n"
     ]
    }
   ],
   "source": [
    "## if-elif-else -> To check multiple conditions\n",
    "number = 10\n",
    "if number > 0:\n",
    "    print(\"number is positive\")\n",
    "elif number < 0:\n",
    "    print(\"number is negative\")\n",
    "else:\n",
    "    print(\"number is zero\")"
   ]
  },
  {
   "cell_type": "code",
   "execution_count": 4,
   "metadata": {},
   "outputs": [
    {
     "name": "stdout",
     "output_type": "stream",
     "text": [
      "number is positive\n",
      "the number is even\n"
     ]
    }
   ],
   "source": [
    "## Nested conditional statement\n",
    "# number is even, odd or negative\n",
    "\n",
    "number = 10\n",
    "if number>0:\n",
    "    print(\"number is positive\")\n",
    "    if number%2 == 0:\n",
    "        print(\"the number is even\")\n",
    "    else:\n",
    "        print(\"the number is odd\")\n",
    "else:\n",
    "    print(\"number is negative\")"
   ]
  },
  {
   "cell_type": "code",
   "execution_count": 1,
   "metadata": {},
   "outputs": [
    {
     "name": "stdout",
     "output_type": "stream",
     "text": [
      "2012  is a leap year\n"
     ]
    }
   ],
   "source": [
    "## Practical example\n",
    "# Determine if a year is a leap year using nested condition statement\n",
    "\n",
    "year = 2012\n",
    "if year%4 == 0:\n",
    "    if year%100 == 0:\n",
    "        if year%400 == 0:\n",
    "            print(year, \" is a leap year\")\n",
    "        else : \n",
    "            print(year,\" is not a leap year\")\n",
    "    else : \n",
    "        print(year, \" is a leap year\")\n",
    "else :\n",
    "    print(year,\" is not a leap year\")"
   ]
  }
 ],
 "metadata": {
  "kernelspec": {
   "display_name": "Python 3",
   "language": "python",
   "name": "python3"
  },
  "language_info": {
   "codemirror_mode": {
    "name": "ipython",
    "version": 3
   },
   "file_extension": ".py",
   "mimetype": "text/x-python",
   "name": "python",
   "nbconvert_exporter": "python",
   "pygments_lexer": "ipython3",
   "version": "3.10.15"
  }
 },
 "nbformat": 4,
 "nbformat_minor": 2
}
