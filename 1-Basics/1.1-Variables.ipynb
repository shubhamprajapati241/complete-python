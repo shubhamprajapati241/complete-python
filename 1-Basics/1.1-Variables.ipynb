{
 "cells": [
  {
   "cell_type": "markdown",
   "metadata": {},
   "source": [
    "# Variables \n",
    "- Variables are used to store that can be referenced and manipulated in a program.\n",
    "- Variables are created when you assign a value to them and they do not need explicit declaration to reserve memory space.\n",
    "- The declarartion happens automatically when you assign a value to a variable\n",
    "\n",
    "### To be learned\n",
    "1. Introduction to variables and Datatypes\n",
    "2. Declaring and Assigning variables\n",
    "3. Naming Conventions\n",
    "4. Understading Variable types\n",
    "5. Type checking and conversion\n",
    "6. Dynamic Typing\n",
    "7. Practical Examples and Common Errors\n",
    "\n",
    "\n",
    "### Datatypes\n",
    "- Ensures that data is stored in an efficient way in memory\n",
    "- Help in performing correct operations on data\n",
    "- Proper use of data-types can prevent error and bugs in the program\n",
    "\n",
    "#### Basic Datatypes\n",
    "1. int\n",
    "2. float\n",
    "3. string\n",
    "4. boolean\n",
    "\n",
    "#### Advanced DataTypes\n",
    "1. list\n",
    "2. Tuple\n",
    "3. Sets\n",
    "4. Dictionaries"
   ]
  },
  {
   "cell_type": "code",
   "execution_count": 21,
   "metadata": {},
   "outputs": [
    {
     "name": "stdout",
     "output_type": "stream",
     "text": [
      "Age :  32\n",
      "Height :  6.1\n",
      "Name :  John\n",
      "is Student :  True\n"
     ]
    }
   ],
   "source": [
    "## Declaring and Assigning variables\n",
    "age = 32 \n",
    "height = 6.1\n",
    "name = \"John\"\n",
    "is_student = True\n",
    "\n",
    "# printng the variables\n",
    "print(\"Age : \", age)\n",
    "print(\"Height : \", height)\n",
    "print(\"Name : \",name)\n",
    "print(\"is Student : \", is_student)"
   ]
  },
  {
   "cell_type": "code",
   "execution_count": 22,
   "metadata": {},
   "outputs": [],
   "source": [
    "## Variable Naming Conventions\n",
    "# 1. Variable name should be decriptive\n",
    "# 2. Must start with a letter or _ and contains letters, numbers and underscore\n",
    "# 3. Variables names are case sensitive\n",
    "\n",
    "## Valid variable names\n",
    "first_name = \"John\"\n",
    "_last_name = \"Doe\"\n",
    "\n",
    "## Invalid variable names\n",
    "# 2age = 30 # Error - invalid decimal literal\n",
    "# fist-name = \"John\" # Error - cannot assign to expression here. Maybe you meant '==' instead of '='?\n",
    "\n",
    "## Case sensitivity - Below both variable names are different\n",
    "name = \"John\"\n",
    "Name = \"John\""
   ]
  },
  {
   "cell_type": "code",
   "execution_count": 23,
   "metadata": {},
   "outputs": [],
   "source": [
    "## Understanding Variable types\n",
    "# 1. Python is dynamic types -> Type of a variable is determined at runtime\n",
    "age = 32 # int\n",
    "height = 6.1 # float\n",
    "name = \"John\" # str\n",
    "is_student = True # bool"
   ]
  },
  {
   "cell_type": "code",
   "execution_count": 24,
   "metadata": {},
   "outputs": [
    {
     "name": "stdout",
     "output_type": "stream",
     "text": [
      "<class 'int'>\n",
      "<class 'str'>\n",
      "6\n"
     ]
    }
   ],
   "source": [
    "## Type checking and Conversion\n",
    "print(type(age))\n",
    "print(type(str(age)))\n",
    "# print(type(int(name))) # Error - invalid literal for int() with base 10: 'John'\n",
    "print(int(height)) # int - 6"
   ]
  },
  {
   "cell_type": "code",
   "execution_count": 25,
   "metadata": {},
   "outputs": [
    {
     "name": "stdout",
     "output_type": "stream",
     "text": [
      "10 <class 'int'>\n",
      "hello <class 'str'>\n",
      "3.1 <class 'float'>\n"
     ]
    }
   ],
   "source": [
    "## Dynamic Typing - Python allows th type of variable to chage as the program executes \n",
    "var = 10\n",
    "print(var, type(var))\n",
    "\n",
    "var = \"hello\"\n",
    "print(var, type(var))\n",
    "\n",
    "var = 3.10\n",
    "print(var, type(var))"
   ]
  },
  {
   "cell_type": "code",
   "execution_count": 27,
   "metadata": {},
   "outputs": [
    {
     "name": "stdout",
     "output_type": "stream",
     "text": [
      "Sum :  12.0\n",
      "Difference :  8.0\n",
      "Product : 20.0\n",
      "Quotient :  5.0\n"
     ]
    }
   ],
   "source": [
    "# simple calculator\n",
    "num1 = float(input(\"enter first number : \"))\n",
    "num2 = float(input(\"enter second number : \"))\n",
    "\n",
    "sum = num1 + num2\n",
    "diff = num1 - num2\n",
    "product = num1 * num2\n",
    "quotient = num1 / num2 \n",
    "\n",
    "print(\"Sum : \", sum)\n",
    "print(\"Difference : \", diff)\n",
    "print(\"Product :\", product)\n",
    "print(\"Quotient : \", quotient)"
   ]
  },
  {
   "cell_type": "code",
   "execution_count": null,
   "metadata": {},
   "outputs": [],
   "source": []
  }
 ],
 "metadata": {
  "kernelspec": {
   "display_name": "Python 3",
   "language": "python",
   "name": "python3"
  },
  "language_info": {
   "codemirror_mode": {
    "name": "ipython",
    "version": 3
   },
   "file_extension": ".py",
   "mimetype": "text/x-python",
   "name": "python",
   "nbconvert_exporter": "python",
   "pygments_lexer": "ipython3",
   "version": "3.10.15"
  }
 },
 "nbformat": 4,
 "nbformat_minor": 2
}
