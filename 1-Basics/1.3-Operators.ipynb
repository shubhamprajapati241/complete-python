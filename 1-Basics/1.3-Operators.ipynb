{
 "cells": [
  {
   "cell_type": "markdown",
   "metadata": {},
   "source": [
    "# Operators\n",
    "\n",
    "### To be learned\n",
    "1. Introduction\n",
    "2. Arithmetic Operator\n",
    "    - Addition\n",
    "    - Subtraction\n",
    "    - Multiplication\n",
    "    - Division\n",
    "    - Floor Division\n",
    "    - Modulus\n",
    "    - Exponentiation\n",
    "3. Comparison Operator\n",
    "    - Equal to \n",
    "    - Not equal to \n",
    "    - Greater than \n",
    "    - Less than \n",
    "    - Greater than or equal to \n",
    "    - Less than or equal to \n",
    "4. Logical Operator\n",
    "    - AND\n",
    "    - OR \n",
    "    - NOT\n",
    "5. Practical examples"
   ]
  },
  {
   "cell_type": "code",
   "execution_count": 4,
   "metadata": {},
   "outputs": [
    {
     "name": "stdout",
     "output_type": "stream",
     "text": [
      "16\n",
      "4\n",
      "60\n",
      "1.6666666666666667\n",
      "1\n",
      "4\n",
      "1000000\n"
     ]
    }
   ],
   "source": [
    "## Arithmetic Operation\n",
    "a = 10\n",
    "b = 6\n",
    "print(a+b) # 15\n",
    "print(a-b) # 5\n",
    "print(a*b) # 50\n",
    "print(a/b)  # 2.0\n",
    "print(a//b) # 2 - Floor division\n",
    "print(a%b)  # 4 - Modular -> Remainder\n",
    "print(a**b) # 100000\n"
   ]
  },
  {
   "cell_type": "code",
   "execution_count": 7,
   "metadata": {},
   "outputs": [
    {
     "name": "stdout",
     "output_type": "stream",
     "text": [
      "False\n",
      "True\n",
      "True\n",
      "False\n",
      "True\n",
      "False\n"
     ]
    }
   ],
   "source": [
    "## Comparison Operators \n",
    "a = 10\n",
    "b = 5\n",
    "\n",
    "print(a==b) # false\n",
    "print(a!=b) # true\n",
    "print(a>b) # true\n",
    "print(a<b) # false\n",
    "print(a>=b) # true\n",
    "print(a<=b) # false"
   ]
  },
  {
   "cell_type": "code",
   "execution_count": 10,
   "metadata": {},
   "outputs": [
    {
     "name": "stdout",
     "output_type": "stream",
     "text": [
      "False\n",
      "True\n",
      "False\n"
     ]
    }
   ],
   "source": [
    "## Logical Operator - AND, OR, NOT\n",
    "X = True\n",
    "Y = False\n",
    "\n",
    "print(X and Y) # False\n",
    "print(X or Y) # true\n",
    "print(not X) # false"
   ]
  }
 ],
 "metadata": {
  "kernelspec": {
   "display_name": "Python 3",
   "language": "python",
   "name": "python3"
  },
  "language_info": {
   "codemirror_mode": {
    "name": "ipython",
    "version": 3
   },
   "file_extension": ".py",
   "mimetype": "text/x-python",
   "name": "python",
   "nbconvert_exporter": "python",
   "pygments_lexer": "ipython3",
   "version": "3.10.15"
  }
 },
 "nbformat": 4,
 "nbformat_minor": 2
}
