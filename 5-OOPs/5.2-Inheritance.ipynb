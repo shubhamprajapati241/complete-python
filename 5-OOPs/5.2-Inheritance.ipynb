{
 "cells": [
  {
   "cell_type": "markdown",
   "metadata": {},
   "source": [
    "## Inheritance \n",
    "- Inheritance is a fundamental concept in OOP that allows a class to inherit attributes and methods from another class. "
   ]
  },
  {
   "cell_type": "code",
   "execution_count": 2,
   "metadata": {},
   "outputs": [
    {
     "name": "stdout",
     "output_type": "stream",
     "text": [
      "The person will drive the Petrol car \n"
     ]
    }
   ],
   "source": [
    "# Parent class \n",
    "class Car:\n",
    "    def __init__(self, windows, doors, engineType):\n",
    "        self.windows = windows\n",
    "        self.doors = doors \n",
    "        self.engineType = engineType\n",
    "    \n",
    "    def drive(self):\n",
    "        print(f\"The person will drive the {self.engineType} car \")\n",
    "\n",
    "car = Car(4,5, \"Petrol\")\n",
    "car.drive()"
   ]
  },
  {
   "cell_type": "code",
   "execution_count": 5,
   "metadata": {},
   "outputs": [
    {
     "name": "stdout",
     "output_type": "stream",
     "text": [
      "Testa support selfDriving :  True\n",
      "The person will drive the Petrol car \n"
     ]
    }
   ],
   "source": [
    "## Child class \n",
    "class Tesla(Car):\n",
    "    def __init__(self, windows, doors, engineType, is_selfDriving):\n",
    "        super().__init__(windows, doors, engineType)\n",
    "        self.is_selfDriving = is_selfDriving \n",
    "    \n",
    "    def selfDriving(self):\n",
    "        print(f\"Testa support selfDriving :  {self.is_selfDriving}\")\n",
    "\n",
    "tesla = Tesla(4,5, \"Petrol\", True)\n",
    "tesla.selfDriving()\n",
    "tesla.drive()"
   ]
  },
  {
   "cell_type": "code",
   "execution_count": 7,
   "metadata": {},
   "outputs": [
    {
     "name": "stdout",
     "output_type": "stream",
     "text": [
      "The owner of pet Dog is John\n"
     ]
    }
   ],
   "source": [
    "## Multiple inheritance - When a class inherits from mor than one base class \n",
    "\n",
    "class Animal:\n",
    "    def __init__(self, name):\n",
    "        self.name = name \n",
    "    \n",
    "    def speak(self):\n",
    "        print(\"Subclass must implement this method\")\n",
    "\n",
    "\n",
    "class Pet:\n",
    "    def __init__(self, owner):\n",
    "        self.owner = owner \n",
    "    \n",
    "\n",
    "## Derived class\n",
    "\n",
    "class Dog(Animal, Pet):\n",
    "    def __init__(self, name, owner):\n",
    "        Animal.__init__(self, name)\n",
    "        Pet.__init__(self, owner)\n",
    "\n",
    "    def get_details(self):\n",
    "        print(f\"The owner of pet {self.name} is {self.owner}\")\n",
    "\n",
    "dog = Dog(\"Dog\", \"John\")\n",
    "dog.get_details()\n"
   ]
  }
 ],
 "metadata": {
  "kernelspec": {
   "display_name": "Python 3",
   "language": "python",
   "name": "python3"
  },
  "language_info": {
   "codemirror_mode": {
    "name": "ipython",
    "version": 3
   },
   "file_extension": ".py",
   "mimetype": "text/x-python",
   "name": "python",
   "nbconvert_exporter": "python",
   "pygments_lexer": "ipython3",
   "version": "3.10.15"
  }
 },
 "nbformat": 4,
 "nbformat_minor": 2
}
