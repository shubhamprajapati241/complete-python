{
 "cells": [
  {
   "cell_type": "markdown",
   "metadata": {},
   "source": [
    "## Magic Method \n",
    "- AKA Dunder methods (double underscore methods), are special methods that start and ends with double underscore. \n",
    "- These methods, enable yo to define the behavior of objects for build-in operations, such as arithmetic operations, comparison, and more. \n",
    "- These methods ar predefined in Python that you can override to chage the behaviour of your object. \n",
    "- Some machine methods include: \n"
   ]
  },
  {
   "cell_type": "code",
   "execution_count": 1,
   "metadata": {},
   "outputs": [
    {
     "data": {
      "text/plain": [
       "'\\n__init__: Initializes a new instance of a class.\\n__str__ : Returns a string representation of an object\\n__repr__ : Returns an official string representation of an object\\n__len__ : Returns the length of an object\\n__getitem__ : Gets an item from a container\\n__setitem__ : Sets an items in a container\\n'"
      ]
     },
     "execution_count": 1,
     "metadata": {},
     "output_type": "execute_result"
    }
   ],
   "source": [
    "\"\"\"\n",
    "__init__: Initializes a new instance of a class.\n",
    "__str__ : Returns a string representation of an object\n",
    "__repr__ : Returns an official string representation of an object\n",
    "__len__ : Returns the length of an object\n",
    "__getitem__ : Gets an item from a container\n",
    "__setitem__ : Sets an items in a container\n",
    "\"\"\""
   ]
  },
  {
   "cell_type": "code",
   "execution_count": 3,
   "metadata": {},
   "outputs": [
    {
     "name": "stdout",
     "output_type": "stream",
     "text": [
      "<__main__.Person object at 0x0000011F72EE52D0>\n",
      "John\n",
      "20\n"
     ]
    }
   ],
   "source": [
    "## Basic method \n",
    "class Person:\n",
    "    def __init__(self, name, age):\n",
    "        self.name = name \n",
    "        self.age = age \n",
    "\n",
    "person = Person(\"John\", 20)\n",
    "print(person)\n",
    "print(person.name)\n",
    "print(person.age)"
   ]
  },
  {
   "cell_type": "code",
   "execution_count": 8,
   "metadata": {},
   "outputs": [
    {
     "name": "stdout",
     "output_type": "stream",
     "text": [
      "John, 20 years old\n",
      "Person(name=John, age=20)\n",
      "John\n",
      "20\n"
     ]
    }
   ],
   "source": [
    "## Basic method \n",
    "class Person:\n",
    "    def __init__(self, name, age):\n",
    "        self.name = name \n",
    "        self.age = age \n",
    "    \n",
    "    def __str__(self):\n",
    "        return f\"{self.name}, {self.age} years old\"\n",
    "\n",
    "    def __repr__(self):\n",
    "        return f\"Person(name={self.name}, age={self.age})\"\n",
    "\n",
    "person = Person(\"John\", 20)\n",
    "print(person)\n",
    "print(repr(person))\n",
    "print(person.name)\n",
    "print(person.age)"
   ]
  }
 ],
 "metadata": {
  "kernelspec": {
   "display_name": "Python 3",
   "language": "python",
   "name": "python3"
  },
  "language_info": {
   "codemirror_mode": {
    "name": "ipython",
    "version": 3
   },
   "file_extension": ".py",
   "mimetype": "text/x-python",
   "name": "python",
   "nbconvert_exporter": "python",
   "pygments_lexer": "ipython3",
   "version": "3.10.15"
  }
 },
 "nbformat": 4,
 "nbformat_minor": 2
}
