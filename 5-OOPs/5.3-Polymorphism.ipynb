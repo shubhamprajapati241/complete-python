{
 "cells": [
  {
   "cell_type": "markdown",
   "metadata": {},
   "source": [
    "## Polymorphism \n",
    "- Polymorphism allows object of different classes to be treated as objects of a common superclass.\n",
    "- It provides a way to perform a single action in different forms. \n",
    "- Polymorphism is typically achieved though method overriding and interfaces.\n",
    "\n",
    "### Method overriding \n",
    "- Method overriding allows a child class to provide a specific implementation of a methos that is already defined in its parent class. "
   ]
  },
  {
   "cell_type": "code",
   "execution_count": 2,
   "metadata": {},
   "outputs": [
    {
     "name": "stdout",
     "output_type": "stream",
     "text": [
      "Woof!\n",
      "Meow!\n",
      "Meow!\n",
      "Woof!\n"
     ]
    }
   ],
   "source": [
    "## Base class\n",
    "class Animal:\n",
    "    def speak(self):\n",
    "        return \"Sound of the animal\"\n",
    "\n",
    "## Derived class1\n",
    "class Dog(Animal):\n",
    "    def speak(self):\n",
    "        return \"Woof!\"\n",
    "    \n",
    "class Cat(Animal):\n",
    "    def speak(self):\n",
    "        return \"Meow!\"\n",
    "\n",
    "dog = Dog()\n",
    "print(dog.speak())\n",
    "\n",
    "cat = Cat()\n",
    "print(cat.speak())\n",
    "\n",
    "# Function that demonstrate polymorphism \n",
    "def animal_speak(animal):\n",
    "    print(animal.speak())\n",
    "\n",
    "animal_speak(cat)\n",
    "animal_speak(dog)"
   ]
  },
  {
   "cell_type": "code",
   "execution_count": 3,
   "metadata": {},
   "outputs": [
    {
     "name": "stdout",
     "output_type": "stream",
     "text": [
      "16\n",
      "50.24\n"
     ]
    }
   ],
   "source": [
    "## Polymorphism with functions and methods \n",
    "class Shape:\n",
    "    def area(self):\n",
    "        return \"The area of the figure\"\n",
    "\n",
    "class Rectange(Shape):\n",
    "    def __init__(self, width, height):\n",
    "        self.width = width\n",
    "        self.height = height\n",
    "    def area(self):\n",
    "        return self.width * self.width\n",
    "    \n",
    "class Circle(Shape):\n",
    "    def __init__(self, radius):\n",
    "        self.radius = radius \n",
    "    \n",
    "    def area(self):\n",
    "        return 3.14 * self.radius * self.radius\n",
    "\n",
    "\n",
    "## Function that demonstate polymorphism \n",
    "def print_area(shape):\n",
    "    print(shape.area())\n",
    "\n",
    "rectangle = Rectange(4,5)\n",
    "circle = Circle(4)\n",
    "\n",
    "print_area(rectangle)\n",
    "print_area(circle)"
   ]
  },
  {
   "cell_type": "code",
   "execution_count": null,
   "metadata": {},
   "outputs": [],
   "source": [
    "## Polymorphism with abstract base class \n",
    "# Abstract Base Classes (ABC) are used to define common methods for a group of related objects. \n",
    "# They can enforce that derived classes implement particular methods, promoting consistency accoss different implementations. "
   ]
  },
  {
   "cell_type": "code",
   "execution_count": 5,
   "metadata": {},
   "outputs": [
    {
     "name": "stdout",
     "output_type": "stream",
     "text": [
      "Car engine started\n",
      "Bike engine started\n"
     ]
    }
   ],
   "source": [
    "from abc import ABC, abstractmethod \n",
    "\n",
    "# Define an Abstract class \n",
    "class Vehicle(ABC):\n",
    "    @abstractmethod \n",
    "    def start_engine(self):\n",
    "        pass \n",
    "\n",
    "## Derived class1\n",
    "class Car(Vehicle):\n",
    "    def start_engine(self):\n",
    "        return \"Car engine started\"\n",
    "\n",
    "class MoterCycle(Vehicle):\n",
    "    def start_engine(self):\n",
    "        return \"Bike engine started\"\n",
    "    \n",
    "# Function that demonstrate polymorphism \n",
    "def start_vehicle(vehicle):\n",
    "    print(vehicle.start_engine())\n",
    "\n",
    "car = Car()\n",
    "bike = MoterCycle()\n",
    "\n",
    "start_vehicle(car)\n",
    "start_vehicle(bike)"
   ]
  }
 ],
 "metadata": {
  "kernelspec": {
   "display_name": "Python 3",
   "language": "python",
   "name": "python3"
  },
  "language_info": {
   "codemirror_mode": {
    "name": "ipython",
    "version": 3
   },
   "file_extension": ".py",
   "mimetype": "text/x-python",
   "name": "python",
   "nbconvert_exporter": "python",
   "pygments_lexer": "ipython3",
   "version": "3.10.15"
  }
 },
 "nbformat": 4,
 "nbformat_minor": 2
}
