{
 "cells": [
  {
   "cell_type": "markdown",
   "metadata": {},
   "source": [
    "## Encapsulation\n",
    "- Encapsulation is the concept of wrapping data (variable) ad methods (functions) together as a single unit. \n",
    "- It restricts direct access to som of the object's componentsm which is means of preventing accidental interference and misuse of the data. "
   ]
  },
  {
   "cell_type": "code",
   "execution_count": 8,
   "metadata": {},
   "outputs": [
    {
     "data": {
      "text/plain": [
       "'Male'"
      ]
     },
     "execution_count": 8,
     "metadata": {},
     "output_type": "execute_result"
    }
   ],
   "source": [
    "## Encapsulation with Getter and Setter method \n",
    "## Access Modifier : Pubic, protected, private variable \n",
    "class Person:\n",
    "    def __init__(self, name, age, gender):\n",
    "        self.__name = name # private - access within the class\n",
    "        self._age = age # Protected - access with derived class\n",
    "        self.gender = gender # Public - access anywhere \n",
    "    \n",
    "    def get_name(self):\n",
    "        return self.__name \n",
    "\n",
    "\n",
    "class Employee(Person):\n",
    "    def __init__(self, name, age, gender):\n",
    "        super().__init__(name, age, gender)\n",
    "    \n",
    "\n",
    "employee = Employee(\"Aman\", 12, \"Male\");\n",
    "employee.get_name()\n",
    "employee.gender"
   ]
  },
  {
   "cell_type": "code",
   "execution_count": 2,
   "metadata": {},
   "outputs": [
    {
     "name": "stdout",
     "output_type": "stream",
     "text": [
      "Aman\n",
      "13\n",
      "John\n",
      "30\n"
     ]
    }
   ],
   "source": [
    "## Encapsulation with Getter and Setters\n",
    "class Person:\n",
    "    def __init__(self, name, age):\n",
    "        self.__name = name \n",
    "        self.__age = age \n",
    "    \n",
    "    def get_name(self):\n",
    "        return self.__name \n",
    "    \n",
    "    def get_age(self):\n",
    "        return self.__age \n",
    "\n",
    "    def set_name(self, name):\n",
    "        self.__name = name \n",
    "    \n",
    "    def set_age(self, age):\n",
    "        self.__age = age \n",
    "    \n",
    "person = Person(\"Aman\", 13)\n",
    "print(person.get_name())\n",
    "print(person.get_age())\n",
    "\n",
    "person.set_name(\"John\")\n",
    "person.set_age(\"30\")\n",
    "\n",
    "print(person.get_name())\n",
    "print(person.get_age())\n"
   ]
  }
 ],
 "metadata": {
  "kernelspec": {
   "display_name": "Python 3",
   "language": "python",
   "name": "python3"
  },
  "language_info": {
   "codemirror_mode": {
    "name": "ipython",
    "version": 3
   },
   "file_extension": ".py",
   "mimetype": "text/x-python",
   "name": "python",
   "nbconvert_exporter": "python",
   "pygments_lexer": "ipython3",
   "version": "3.10.15"
  }
 },
 "nbformat": 4,
 "nbformat_minor": 2
}
