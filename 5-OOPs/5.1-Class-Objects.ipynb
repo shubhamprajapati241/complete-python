{
 "cells": [
  {
   "cell_type": "markdown",
   "metadata": {},
   "source": [
    "## Class and Objects \n",
    "- Object Oriented Programming (OOP) is a programming paradigm that used \"object\" to design application and computer programs. \n",
    "- OOP allows for modeing real-world scenarios using classes and objects. \n",
    "- This lesson covers the basics of creating classes and objects, including instance variable and methods"
   ]
  },
  {
   "cell_type": "code",
   "execution_count": 3,
   "metadata": {},
   "outputs": [
    {
     "name": "stdout",
     "output_type": "stream",
     "text": [
      "<class '__main__.Car'>\n",
      "<__main__.Car object at 0x00000231A5E17BE0>\n",
      "<__main__.Car object at 0x00000231A5E14850>\n"
     ]
    }
   ],
   "source": [
    "## A class is a blueprint for creating object. Attributes, methods \n",
    "class Car:\n",
    "    pass \n",
    "\n",
    "audi = Car()\n",
    "bmw = Car()\n",
    "\n",
    "print(type(audi))\n",
    "print(audi)\n",
    "print(bmw)"
   ]
  },
  {
   "cell_type": "code",
   "execution_count": 8,
   "metadata": {},
   "outputs": [
    {
     "name": "stdout",
     "output_type": "stream",
     "text": [
      "<__main__.Dog object at 0x00000231A5E32650>\n",
      "Jimmi\n",
      "2\n",
      "Jimmi says woof\n"
     ]
    }
   ],
   "source": [
    "## Class with instance variable and methods \n",
    "class Dog:\n",
    "    ## constructor\n",
    "    def __init__(self, name, age):\n",
    "        self.name = name\n",
    "        self.age = age\n",
    "    \n",
    "    def bark(self):\n",
    "        print(f\"{self.name} says woof\")\n",
    "\n",
    "# create objects \n",
    "dog1 = Dog(\"Jimmi\", 2)\n",
    "print(dog1)\n",
    "print(dog1.name)\n",
    "print(dog1.age)\n",
    "dog1.bark()"
   ]
  },
  {
   "cell_type": "code",
   "execution_count": 14,
   "metadata": {},
   "outputs": [
    {
     "name": "stdout",
     "output_type": "stream",
     "text": [
      "15 is deposited. New balance is 15\n",
      "15\n",
      "5 is withdrawn. New balance is 10\n",
      "10\n"
     ]
    }
   ],
   "source": [
    "## Modelling a Bank account \n",
    "\n",
    "class BankAccount:\n",
    "    def __init__(self, owner, balance=0):\n",
    "        self.owner = owner \n",
    "        self.balance = balance \n",
    "    \n",
    "    def deposit(self, amount):\n",
    "        self.balance += amount \n",
    "        print(f\"{amount} is deposited. New balance is {self.balance}\")\n",
    "\n",
    "    def withdraw(self, amount):\n",
    "        if amount > self.balance:\n",
    "            print(\"insufficient funds\")\n",
    "        else:\n",
    "            self.balance -= amount \n",
    "            print(f\"{amount} is withdrawn. New balance is {self.balance}\")\n",
    "    \n",
    "    def get_balance(self):\n",
    "        return self.balance \n",
    "\n",
    "account1 = BankAccount(\"Aman\")\n",
    "account1.deposit(15)\n",
    "print(account1.get_balance())\n",
    "account1.withdraw(5)\n",
    "print(account1.get_balance())"
   ]
  },
  {
   "cell_type": "markdown",
   "metadata": {},
   "source": []
  }
 ],
 "metadata": {
  "kernelspec": {
   "display_name": "Python 3",
   "language": "python",
   "name": "python3"
  },
  "language_info": {
   "codemirror_mode": {
    "name": "ipython",
    "version": 3
   },
   "file_extension": ".py",
   "mimetype": "text/x-python",
   "name": "python",
   "nbconvert_exporter": "python",
   "pygments_lexer": "ipython3",
   "version": "3.10.15"
  }
 },
 "nbformat": 4,
 "nbformat_minor": 2
}
