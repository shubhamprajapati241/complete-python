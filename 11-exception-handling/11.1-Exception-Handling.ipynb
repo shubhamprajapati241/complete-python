{
 "cells": [
  {
   "cell_type": "markdown",
   "metadata": {},
   "source": [
    "## Exception Handing \n",
    "- Exception handling allows yo to handle errors gracefully and take corrective actions without stopping the exection of the program.\n",
    "\n",
    "#### Exceptions\n",
    "- Exceptions are events that disrupt the normal flow of a program\n",
    "- They occur when an error is encounted during program execution. \n",
    "- Common exceptions are:\n",
    "    1. ZeroDivisionError : Dividing by zero\n",
    "    2. FileNotFoundError\n",
    "    3. Value Error\n",
    "    4. Type Error \n",
    "    5. NameError : name 'b' is not defined"
   ]
  },
  {
   "cell_type": "code",
   "execution_count": 1,
   "metadata": {},
   "outputs": [
    {
     "ename": "NameError",
     "evalue": "name 'b' is not defined",
     "output_type": "error",
     "traceback": [
      "\u001b[1;31m---------------------------------------------------------------------------\u001b[0m",
      "\u001b[1;31mNameError\u001b[0m                                 Traceback (most recent call last)",
      "Cell \u001b[1;32mIn[1], line 2\u001b[0m\n\u001b[0;32m      1\u001b[0m a \u001b[38;5;241m=\u001b[39m \u001b[38;5;241m10\u001b[39m\n\u001b[1;32m----> 2\u001b[0m b \u001b[38;5;241m=\u001b[39m \u001b[43mb\u001b[49m\n",
      "\u001b[1;31mNameError\u001b[0m: name 'b' is not defined"
     ]
    }
   ],
   "source": [
    "a = 10\n",
    "b = b"
   ]
  },
  {
   "cell_type": "code",
   "execution_count": 3,
   "metadata": {},
   "outputs": [
    {
     "name": "stdout",
     "output_type": "stream",
     "text": [
      "The variable has not been assigned\n"
     ]
    }
   ],
   "source": [
    "## Exception handling with try-except block \n",
    "try:\n",
    "    a = b\n",
    "except:\n",
    "    print(\"The variable has not been assigned\")"
   ]
  },
  {
   "cell_type": "code",
   "execution_count": 4,
   "metadata": {},
   "outputs": [
    {
     "name": "stdout",
     "output_type": "stream",
     "text": [
      "name 'b' is not defined\n"
     ]
    }
   ],
   "source": [
    "try:\n",
    "    a = b\n",
    "except NameError as ex:\n",
    "    print(ex)"
   ]
  },
  {
   "cell_type": "code",
   "execution_count": 5,
   "metadata": {},
   "outputs": [
    {
     "ename": "ZeroDivisionError",
     "evalue": "division by zero",
     "output_type": "error",
     "traceback": [
      "\u001b[1;31m---------------------------------------------------------------------------\u001b[0m",
      "\u001b[1;31mZeroDivisionError\u001b[0m                         Traceback (most recent call last)",
      "Cell \u001b[1;32mIn[5], line 1\u001b[0m\n\u001b[1;32m----> 1\u001b[0m result \u001b[38;5;241m=\u001b[39m \u001b[38;5;241;43m1\u001b[39;49m\u001b[38;5;241;43m/\u001b[39;49m\u001b[38;5;241;43m0\u001b[39;49m\n",
      "\u001b[1;31mZeroDivisionError\u001b[0m: division by zero"
     ]
    }
   ],
   "source": [
    "result = 1/0"
   ]
  },
  {
   "cell_type": "code",
   "execution_count": 6,
   "metadata": {},
   "outputs": [
    {
     "name": "stdout",
     "output_type": "stream",
     "text": [
      "division by zero\n"
     ]
    }
   ],
   "source": [
    "try:\n",
    "    result = 1/0\n",
    "except ZeroDivisionError as ex:\n",
    "    print(ex)"
   ]
  },
  {
   "cell_type": "code",
   "execution_count": 7,
   "metadata": {},
   "outputs": [
    {
     "name": "stdout",
     "output_type": "stream",
     "text": [
      "name 'b' is not defined\n"
     ]
    }
   ],
   "source": [
    "## Handling multiple exceptions  \n",
    "#  Exception - is the super class \n",
    "try:\n",
    "    result = 1/2\n",
    "    a = b\n",
    "except ZeroDivisionError as ex:\n",
    "    print(ex)\n",
    "except Exception as ex1: \n",
    "    print(ex1)"
   ]
  },
  {
   "cell_type": "code",
   "execution_count": 9,
   "metadata": {},
   "outputs": [
    {
     "name": "stdout",
     "output_type": "stream",
     "text": [
      "enter denominator greater than zero\n"
     ]
    }
   ],
   "source": [
    "try:\n",
    "    num = int(input(\"enter a number\")) # John, 0\n",
    "    result = 10/num \n",
    "except ValueError as ex:\n",
    "    print(\"Not a valid number\")\n",
    "except ZeroDivisionError as ex1:\n",
    "    print(\"enter denominator greater than zero\")\n",
    "except Exception as ex:\n",
    "    print(ex)"
   ]
  },
  {
   "cell_type": "code",
   "execution_count": 10,
   "metadata": {},
   "outputs": [
    {
     "name": "stdout",
     "output_type": "stream",
     "text": [
      "the result is 5.0\n"
     ]
    }
   ],
   "source": [
    "## Try-except-else block \n",
    "try:\n",
    "    num = int(input(\"Enter a number:\"))\n",
    "    result = 10/num\n",
    "except ValueError as ex:\n",
    "    print(\"Not a valid number\")\n",
    "except ZeroDivisionError as ex1:\n",
    "    print(\"enter denominator greater than zero\")\n",
    "except Exception as ex:\n",
    "    print(ex)\n",
    "else: # If no exception raise then this block get executed\n",
    "    print(f\"the result is {result}\")"
   ]
  },
  {
   "cell_type": "code",
   "execution_count": 11,
   "metadata": {},
   "outputs": [
    {
     "name": "stdout",
     "output_type": "stream",
     "text": [
      "enter denominator greater than zero\n",
      "Execution completed.\n"
     ]
    }
   ],
   "source": [
    "## Try-except-else-Finally block \n",
    "try:\n",
    "    num = int(input(\"Enter a number:\"))\n",
    "    result = 10/num\n",
    "except ValueError as ex:\n",
    "    print(\"Not a valid number\")\n",
    "except ZeroDivisionError as ex1:\n",
    "    print(\"enter denominator greater than zero\")\n",
    "except Exception as ex:\n",
    "    print(ex)\n",
    "else: # If no exception raise then this block get executed\n",
    "    print(f\"the result is {result}\")\n",
    "finally: # Whether exeception comes or not, finally will get executed\n",
    "    print(\"Execution completed.\")"
   ]
  },
  {
   "cell_type": "code",
   "execution_count": 12,
   "metadata": {},
   "outputs": [
    {
     "name": "stdout",
     "output_type": "stream",
     "text": [
      "The file does not exits\n"
     ]
    }
   ],
   "source": [
    "## File handling with exception handling\n",
    "try:\n",
    "    file = open(\"example.txt\", 'r')\n",
    "    content = file.read()\n",
    "    print(content)\n",
    "except FileNotFoundError:\n",
    "    print(\"The file does not exits\")\n",
    "except Exception as ex:\n",
    "    print(ex)\n",
    "finally:\n",
    "    if 'file' in locals() and not file.closed():\n",
    "        file.close()\n",
    "        print(\"file closed...\")"
   ]
  }
 ],
 "metadata": {
  "kernelspec": {
   "display_name": "Python 3",
   "language": "python",
   "name": "python3"
  },
  "language_info": {
   "codemirror_mode": {
    "name": "ipython",
    "version": 3
   },
   "file_extension": ".py",
   "mimetype": "text/x-python",
   "name": "python",
   "nbconvert_exporter": "python",
   "pygments_lexer": "ipython3",
   "version": "3.10.15"
  }
 },
 "nbformat": 4,
 "nbformat_minor": 2
}
