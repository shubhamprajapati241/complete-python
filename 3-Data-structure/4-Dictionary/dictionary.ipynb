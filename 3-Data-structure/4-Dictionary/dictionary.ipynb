{
 "cells": [
  {
   "cell_type": "markdown",
   "metadata": {},
   "source": [
    "## To be covered \n",
    "1. Intoduction to dictionaries\n",
    "2. Creating Dictionaries\n",
    "3. Accessing Dictionaries elements\n",
    "4. Modifying dictionaris elements \n",
    "5. Dictionary methods\n",
    "6. Iterating over dictionaries\n",
    "7. Nested dictionaries \n",
    "8. Dictionary comprehensions\n",
    "9. Practical example"
   ]
  },
  {
   "cell_type": "markdown",
   "metadata": {},
   "source": [
    "### Dictionaries\n",
    "- Dictionaries are unordered collections of items.\n",
    "- They store data in key-value pairs. \n",
    "- Key must be unique and immutable (e.g. string, numbers or tuples), while values can be any type."
   ]
  },
  {
   "cell_type": "code",
   "execution_count": 2,
   "metadata": {},
   "outputs": [
    {
     "name": "stdout",
     "output_type": "stream",
     "text": [
      "{} <class 'dict'>\n",
      "{} <class 'dict'>\n"
     ]
    }
   ],
   "source": [
    "## Creating empty dictionaries \n",
    "empty_dict = {}\n",
    "print(empty_dict, type(empty_dict))\n",
    "\n",
    "empty_dict = dict()\n",
    "print(empty_dict, type(empty_dict))\n"
   ]
  },
  {
   "cell_type": "code",
   "execution_count": 7,
   "metadata": {},
   "outputs": [
    {
     "data": {
      "text/plain": [
       "{'name': 24, 'grade': 25}"
      ]
     },
     "execution_count": 7,
     "metadata": {},
     "output_type": "execute_result"
    }
   ],
   "source": [
    "student = {\"name\" : \"John\", \"age\" : 24, \"grade\" : 25}\n",
    "student\n",
    "\n",
    "# key must be unique -> Single key is always used \n",
    "student = {\"name\" : \"John\", \"name\" : 24, \"grade\" : 25}\n",
    "student"
   ]
  },
  {
   "cell_type": "code",
   "execution_count": 12,
   "metadata": {},
   "outputs": [
    {
     "name": "stdout",
     "output_type": "stream",
     "text": [
      "John\n",
      "24\n",
      "25\n",
      "None\n",
      "Not available\n"
     ]
    }
   ],
   "source": [
    "## accessing dictionaries elements\n",
    "student = {\"name\" : \"John\", \"age\" : 24, \"grade\" : 25}\n",
    "print(student['name'])\n",
    "print(student['age'])\n",
    "\n",
    "# accessing using get() method\n",
    "print(student.get('grade'))\n",
    "print(student.get('last_name'))\n",
    "\n",
    "print(student.get('last_name', \"Not available\")) # if key not present, passing default values"
   ]
  },
  {
   "cell_type": "code",
   "execution_count": 15,
   "metadata": {},
   "outputs": [
    {
     "name": "stdout",
     "output_type": "stream",
     "text": [
      "{'name': 'John', 'age': 33, 'grade': 25}\n",
      "{'name': 'John', 'age': 33, 'grade': 25, 'address': 'US'}\n"
     ]
    }
   ],
   "source": [
    "# Modifyng dictionaries element \n",
    "student['age'] = 33\n",
    "print(student)\n",
    "\n",
    "student['address'] = \"US\"\n",
    "print(student)"
   ]
  },
  {
   "cell_type": "code",
   "execution_count": 16,
   "metadata": {},
   "outputs": [
    {
     "data": {
      "text/plain": [
       "{'name': 'John', 'age': 33, 'grade': 25}"
      ]
     },
     "execution_count": 16,
     "metadata": {},
     "output_type": "execute_result"
    }
   ],
   "source": [
    "## deleting key-value\n",
    "del student['address']\n",
    "student"
   ]
  },
  {
   "cell_type": "code",
   "execution_count": 19,
   "metadata": {},
   "outputs": [
    {
     "name": "stdout",
     "output_type": "stream",
     "text": [
      "dict_keys(['name', 'age', 'grade'])\n",
      "dict_values(['John', 33, 25])\n",
      "dict_items([('name', 'John'), ('age', 33), ('grade', 25)])\n"
     ]
    }
   ],
   "source": [
    "## dictionaries methods  \n",
    "print(student.keys()) # get all the keys\n",
    "print(student.values()) # get all values \n",
    "print(student.items()) # get all key-value pairs -> list of tuples"
   ]
  },
  {
   "cell_type": "code",
   "execution_count": 22,
   "metadata": {},
   "outputs": [
    {
     "name": "stdout",
     "output_type": "stream",
     "text": [
      "{'name': 'John', 'age': 40, 'grade': 25}\n",
      "{'name': 'John', 'age': 40, 'grade': 25}\n",
      "{'name': 'John', 'age': 40, 'grade': 25}\n",
      "{'name': 'John', 'age': 40, 'grade': 25}\n",
      "{'name': 'John', 'age': 40, 'grade': 25}\n"
     ]
    }
   ],
   "source": [
    "## dictionary copy\n",
    "student_copy = student # referece the memory\n",
    "print(student)\n",
    "print(student_copy)\n",
    "\n",
    "student['age'] = 40\n",
    "print(student)\n",
    "print(student_copy)\n",
    "\n",
    "student_copy1 = student.copy()\n",
    "student['age'] = 14\n",
    "print(student_copy1)\n"
   ]
  },
  {
   "cell_type": "code",
   "execution_count": 26,
   "metadata": {},
   "outputs": [
    {
     "name": "stdout",
     "output_type": "stream",
     "text": [
      "name\n",
      "age\n",
      "grade\n",
      "John\n",
      "14\n",
      "25\n",
      "name : John\n",
      "age : 14\n",
      "grade : 25\n"
     ]
    }
   ],
   "source": [
    "## iterating over dictionaries \n",
    "# iterating over keys \n",
    "for key in student.keys():\n",
    "    print(key)\n",
    "    \n",
    "# iterating over values \n",
    "for value in student.values():\n",
    "    print(value)\n",
    "    \n",
    "# iterating over key-value pair\n",
    "for key,value in student.items():\n",
    "    print(f\"{key} : {value}\")"
   ]
  },
  {
   "cell_type": "code",
   "execution_count": 30,
   "metadata": {},
   "outputs": [
    {
     "name": "stdout",
     "output_type": "stream",
     "text": [
      "{'student1': {'name': 'John', 'age': 32}, 'student2': {'name': 'Peter', 'age': 22}}\n"
     ]
    }
   ],
   "source": [
    "## Nested dictionaries \n",
    "students =  { \n",
    "    \"student1\" : {\"name\" : \"John\", \"age\" : 32},\n",
    "    \"student2\" : {\"name\" : \"Peter\", \"age\" : 22},\n",
    "    }\n",
    "print(students)"
   ]
  },
  {
   "cell_type": "code",
   "execution_count": 32,
   "metadata": {},
   "outputs": [
    {
     "name": "stdout",
     "output_type": "stream",
     "text": [
      "John\n",
      "22\n"
     ]
    }
   ],
   "source": [
    "# accesing nested dictionaries elements \n",
    "print(students[\"student1\"][\"name\"])\n",
    "print(students[\"student2\"][\"age\"])"
   ]
  },
  {
   "cell_type": "code",
   "execution_count": 36,
   "metadata": {},
   "outputs": [
    {
     "name": "stdout",
     "output_type": "stream",
     "text": [
      "student1 : {'name': 'John', 'age': 32}\n",
      "name : John\n",
      "age : 32\n",
      "student2 : {'name': 'Peter', 'age': 22}\n",
      "name : Peter\n",
      "age : 22\n"
     ]
    }
   ],
   "source": [
    "# iterating over nested dictionaries \n",
    "for student_id, student_info in students.items():\n",
    "    print(f\"{student_id} : {student_info}\")\n",
    "    for key,value in student_info.items():\n",
    "        print(f\"{key} : {value}\")"
   ]
  },
  {
   "cell_type": "code",
   "execution_count": 40,
   "metadata": {},
   "outputs": [
    {
     "data": {
      "text/plain": [
       "{0: 0, 2: 4, 4: 16, 6: 36, 8: 64}"
      ]
     },
     "execution_count": 40,
     "metadata": {},
     "output_type": "execute_result"
    }
   ],
   "source": [
    "## Dictionary comprehension\n",
    "squares = { x:x**2 for x in range(5)}\n",
    "squares\n",
    "\n",
    "# conditional dictionary comprehension\n",
    "evens = {x:x**2 for x in range(10) if x%2 == 0}\n",
    "evens"
   ]
  },
  {
   "cell_type": "code",
   "execution_count": 46,
   "metadata": {},
   "outputs": [
    {
     "name": "stdout",
     "output_type": "stream",
     "text": [
      "{1: 1, 2: 2, 3: 1, 4: 1, 5: 2, 6: 3, 7: 1, 8: 1}\n"
     ]
    }
   ],
   "source": [
    "## Practical examples -> Use he dictionary to count the frequency of elements in list\n",
    "numbers = [1,2,2,3,4,5,5,6,6,6,7,8]\n",
    "\n",
    "frequency = {}\n",
    "\n",
    "count = 1\n",
    "for number in numbers:\n",
    "    if number in frequency:\n",
    "       frequency[number] += 1 \n",
    "    else :\n",
    "        frequency[number] = 1 \n",
    "        \n",
    "print(frequency)"
   ]
  },
  {
   "cell_type": "code",
   "execution_count": 48,
   "metadata": {},
   "outputs": [
    {
     "data": {
      "text/plain": [
       "{'a': 1, 'b': 3, 'c': 10}"
      ]
     },
     "execution_count": 48,
     "metadata": {},
     "output_type": "execute_result"
    }
   ],
   "source": [
    "# Merge 2 dictionaries in one\n",
    "dict1 = { \"a\" :1, \"b\" : 2}\n",
    "dict2 = {\"b\" : 3, \"c\" : 10}\n",
    "\n",
    "merged_dict = {**dict1, **dict2}\n",
    "merged_dict"
   ]
  }
 ],
 "metadata": {
  "kernelspec": {
   "display_name": "Python 3",
   "language": "python",
   "name": "python3"
  },
  "language_info": {
   "codemirror_mode": {
    "name": "ipython",
    "version": 3
   },
   "file_extension": ".py",
   "mimetype": "text/x-python",
   "name": "python",
   "nbconvert_exporter": "python",
   "pygments_lexer": "ipython3",
   "version": "3.10.15"
  }
 },
 "nbformat": 4,
 "nbformat_minor": 2
}
