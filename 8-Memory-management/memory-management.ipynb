{
 "cells": [
  {
   "cell_type": "markdown",
   "metadata": {},
   "source": [
    "## Memory management\n",
    "- Memory manangement in Python involve a combi ation of automatic garbage collection, reference couting, and various internal optimizations to efficiently manage memory allocation and deallocation.\n",
    "- Understanding these mechaism can help developers write more efficient and robust applications. \n",
    "\n",
    "### To be covered\n",
    "1. Key-concepts in Python Memory Management\n",
    "2. Memory allocation and deallocation \n",
    "3. Reference counting\n",
    "4. Garbage collection\n",
    "5. The gc module\n",
    "6. Memory management best practices"
   ]
  },
  {
   "cell_type": "markdown",
   "metadata": {},
   "source": [
    "## Reference counting\n",
    "- Reference counting is the primary method python used to manage memory. \n",
    "- Each object in python maintains a count of references pointing to it.\n",
    "- when the reference count drops to zero, the memory occupied by the object is deallocated. "
   ]
  },
  {
   "cell_type": "code",
   "execution_count": 1,
   "metadata": {},
   "outputs": [
    {
     "name": "stdout",
     "output_type": "stream",
     "text": [
      "2\n"
     ]
    }
   ],
   "source": [
    "import sys \n",
    "a = [] \n",
    "print(sys.getrefcount(a)) # 2 \n",
    "# 2 - One reference form 'a' -> and one from getrefcount"
   ]
  },
  {
   "cell_type": "code",
   "execution_count": 2,
   "metadata": {},
   "outputs": [
    {
     "name": "stdout",
     "output_type": "stream",
     "text": [
      "3\n"
     ]
    }
   ],
   "source": [
    "b = a\n",
    "print(sys.getrefcount(a)) # 3"
   ]
  },
  {
   "cell_type": "code",
   "execution_count": 3,
   "metadata": {},
   "outputs": [
    {
     "name": "stdout",
     "output_type": "stream",
     "text": [
      "2\n"
     ]
    }
   ],
   "source": [
    "del b \n",
    "print(sys.getrefcount(a)) # 2"
   ]
  },
  {
   "cell_type": "code",
   "execution_count": 4,
   "metadata": {},
   "outputs": [],
   "source": [
    "## Garbage collection\n",
    "# Python includes a cyclng garbage collector to handle reference cycle. Reference cycle occur when objects reference each other, preventing their reference counts from reacking zero. "
   ]
  },
  {
   "cell_type": "code",
   "execution_count": 5,
   "metadata": {},
   "outputs": [],
   "source": [
    "import gc \n",
    "\n",
    "# enabling garbage collector\n",
    "gc.enable()\n",
    "\n",
    "# to dissable garbage collector \n",
    "gc.disable()"
   ]
  },
  {
   "cell_type": "code",
   "execution_count": 6,
   "metadata": {},
   "outputs": [
    {
     "data": {
      "text/plain": [
       "63"
      ]
     },
     "execution_count": 6,
     "metadata": {},
     "output_type": "execute_result"
    }
   ],
   "source": [
    "gc.collect() # returns the number of unreachable object "
   ]
  },
  {
   "cell_type": "code",
   "execution_count": 8,
   "metadata": {},
   "outputs": [
    {
     "name": "stdout",
     "output_type": "stream",
     "text": [
      "[{'collections': 193, 'collected': 1527, 'uncollectable': 0}, {'collections': 17, 'collected': 743, 'uncollectable': 0}, {'collections': 2, 'collected': 91, 'uncollectable': 0}]\n"
     ]
    }
   ],
   "source": [
    "## Get the garbage collection stats \n",
    "print(gc.get_stats())"
   ]
  },
  {
   "cell_type": "code",
   "execution_count": 9,
   "metadata": {},
   "outputs": [
    {
     "name": "stdout",
     "output_type": "stream",
     "text": [
      "[]\n"
     ]
    }
   ],
   "source": [
    "## get unreachable objects\n",
    "print(gc.garbage)"
   ]
  },
  {
   "cell_type": "markdown",
   "metadata": {},
   "source": [
    "#### Memory management best practices \n",
    "- Use local variables: Local variables have a shorter lifespan and are freed sooner than global variable \n",
    "- Avoid circular reference : Circular references can lead o memory leaks if not properly managed. \n",
    "- Use Generators : Generators produce items one at a time and only keep one item in memory at a time, making them memory efficient.\n",
    "- Explicitly Delete Objects : Use the del statement to delete variables and objects explicitly. \n",
    "- Profile memory usage : Use memory profiling tools like tracemalloc and memory_profileer to identify memory leaks and optimize memory usage. "
   ]
  },
  {
   "cell_type": "code",
   "execution_count": 20,
   "metadata": {},
   "outputs": [
    {
     "name": "stdout",
     "output_type": "stream",
     "text": [
      "Object Obj1 created\n",
      "Object Obj2 created\n",
      "Object Obj1 deleted\n",
      "Object Obj2 deleted\n"
     ]
    },
    {
     "data": {
      "text/plain": [
       "11"
      ]
     },
     "execution_count": 20,
     "metadata": {},
     "output_type": "execute_result"
    }
   ],
   "source": [
    "## Handling circular reference\n",
    "import gc \n",
    "class MyObject:\n",
    "    def __init__(self, name):\n",
    "        self.name = name \n",
    "        print(f\"Object {self.name} created\")\n",
    "    \n",
    "    def __del__(self):\n",
    "        print(f\"Object {self.name} deleted\")\n",
    "\n",
    "obj1 = MyObject(\"Obj1\")\n",
    "obj2 = MyObject(\"Obj2\")\n",
    "obj1.ref = obj2\n",
    "obj2.ref = obj1\n",
    "\n",
    "del obj1\n",
    "del obj2\n",
    "\n",
    "# Manually trigger the garbage collection\n",
    "gc.collect()"
   ]
  },
  {
   "cell_type": "code",
   "execution_count": 21,
   "metadata": {},
   "outputs": [
    {
     "name": "stdout",
     "output_type": "stream",
     "text": [
      "0\n",
      "1\n",
      "2\n",
      "3\n",
      "4\n",
      "5\n",
      "6\n",
      "7\n",
      "8\n",
      "9\n",
      "10\n",
      "11\n"
     ]
    }
   ],
   "source": [
    "## Generator for memory efficiency\n",
    "\n",
    "def generate_number(number):\n",
    "    for i in range(number):\n",
    "        yield i\n",
    "    \n",
    "## using the generator \n",
    "for num in generate_number(100000):\n",
    "    print(num)\n",
    "    if num > 10:\n",
    "        break"
   ]
  },
  {
   "cell_type": "code",
   "execution_count": 23,
   "metadata": {},
   "outputs": [
    {
     "name": "stdout",
     "output_type": "stream",
     "text": [
      "[Top 10]\n",
      "d:\\complete-python\\venv\\lib\\selectors.py:315: size=288 KiB, count=6, average=48.0 KiB\n",
      "d:\\complete-python\\venv\\lib\\selectors.py:324: size=472 B, count=1, average=472 B\n",
      "C:\\Users\\Shubh\\AppData\\Local\\Temp\\ipykernel_6056\\3750144249.py:13: size=416 B, count=1, average=416 B\n",
      "C:\\Users\\Shubh\\AppData\\Local\\Temp\\ipykernel_6056\\3750144249.py:6: size=416 B, count=1, average=416 B\n",
      "d:\\complete-python\\venv\\lib\\site-packages\\tornado\\platform\\asyncio.py:235: size=144 B, count=2, average=72 B\n",
      "d:\\complete-python\\venv\\lib\\site-packages\\zmq\\eventloop\\zmqstream.py:694: size=144 B, count=1, average=144 B\n",
      "d:\\complete-python\\venv\\lib\\asyncio\\base_events.py:773: size=96 B, count=1, average=96 B\n",
      "d:\\complete-python\\venv\\lib\\site-packages\\zmq\\sugar\\attrsettr.py:45: size=55 B, count=1, average=55 B\n",
      "d:\\complete-python\\venv\\lib\\site-packages\\zmq\\eventloop\\zmqstream.py:674: size=40 B, count=1, average=40 B\n"
     ]
    }
   ],
   "source": [
    "## Profiling memory usage with tracemalloc \n",
    "\n",
    "import tracemalloc\n",
    "\n",
    "def create_list():\n",
    "    return [i for i in range(10000)]\n",
    "\n",
    "def main():\n",
    "    tracemalloc.start()\n",
    "\n",
    "    create_list()\n",
    "\n",
    "    snapshot = tracemalloc.take_snapshot()\n",
    "    top_stats = snapshot.statistics(\"lineno\")\n",
    "\n",
    "    print(\"[Top 10]\")\n",
    "    for stat in top_stats[:10]:\n",
    "        print(stat)\n",
    "    \n",
    "main()"
   ]
  }
 ],
 "metadata": {
  "kernelspec": {
   "display_name": "Python 3",
   "language": "python",
   "name": "python3"
  },
  "language_info": {
   "codemirror_mode": {
    "name": "ipython",
    "version": 3
   },
   "file_extension": ".py",
   "mimetype": "text/x-python",
   "name": "python",
   "nbconvert_exporter": "python",
   "pygments_lexer": "ipython3",
   "version": "3.10.15"
  }
 },
 "nbformat": 4,
 "nbformat_minor": 2
}
