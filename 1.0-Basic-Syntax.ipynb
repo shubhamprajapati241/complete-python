{
 "cells": [
  {
   "cell_type": "markdown",
   "metadata": {},
   "source": [
    "# Syntax and Semantics \n",
    "\n",
    "Table to content:\n",
    "- Syntax and Semantics Definition\n",
    "- Comments in Python\n",
    "    - Single line comments - #\n",
    "    - Multiple line comments - ''' '''\n",
    "- Basic Syntax rules \n",
    "- Understanding Semantic "
   ]
  },
  {
   "cell_type": "markdown",
   "metadata": {},
   "source": [
    "## Syntax and Semantics Definition\n",
    "Syntax -> Refers to the set of rules that defines the combinations of symbols that are considered to be correctly structured programs in a language. In simpler terms, syntax is about the correct arrangement of words and symbols in a code. \n",
    "\n",
    "Semantics -> Refers to the meaning or the interpretation of the symbol, characters and commands in a language. It is about what the code is supposed to do when it runs."
   ]
  },
  {
   "cell_type": "code",
   "execution_count": 1,
   "metadata": {},
   "outputs": [
    {
     "name": "stdout",
     "output_type": "stream",
     "text": [
      "Shubham\n",
      "shubham\n"
     ]
    }
   ],
   "source": [
    "## Basic Syntax rules in Python\n",
    "# 1. Python is case sensitive\n",
    "\n",
    "name = \"Shubham\"\n",
    "Name = \"shubham\"\n",
    "print(name)\n",
    "print(Name)"
   ]
  },
  {
   "cell_type": "code",
   "execution_count": 2,
   "metadata": {},
   "outputs": [
    {
     "name": "stdout",
     "output_type": "stream",
     "text": [
      "18\n"
     ]
    }
   ],
   "source": [
    "## Indentation\n",
    "# 1. Python uses indenation to define blocks of code.\n",
    "# 2. It define the structure and hierarchy of the code.\n",
    "# 3. Consistent use of spaces (commonly 4) or tab is required\n",
    "\n",
    "age = 18\n",
    "if age > 30:\n",
    "    print(age)\n",
    "print(age)"
   ]
  },
  {
   "cell_type": "code",
   "execution_count": 4,
   "metadata": {},
   "outputs": [
    {
     "name": "stdout",
     "output_type": "stream",
     "text": [
      "43\n"
     ]
    }
   ],
   "source": [
    "## Line contuniation (\\) -> With this we can continue into next line\n",
    "total = 1 + 2 + 3 + 4 + 5 + 6 + 7 +\\\n",
    "    4 + 5 + 6\n",
    "print(total)"
   ]
  },
  {
   "cell_type": "code",
   "execution_count": 5,
   "metadata": {},
   "outputs": [
    {
     "name": "stdout",
     "output_type": "stream",
     "text": [
      "15\n"
     ]
    }
   ],
   "source": [
    "## Multiple statements on a single line\n",
    "x=5; y=10; z = x + y\n",
    "print(z)"
   ]
  },
  {
   "cell_type": "code",
   "execution_count": 7,
   "metadata": {},
   "outputs": [
    {
     "name": "stdout",
     "output_type": "stream",
     "text": [
      "<class 'int'>\n",
      "<class 'str'>\n"
     ]
    }
   ],
   "source": [
    "## Understandig Semantics in Python\n",
    "# 1. varaible assignment\n",
    "age = 32 # int \n",
    "name = \"John\" # string\n",
    "print(type(age))\n",
    "print(type(name))"
   ]
  },
  {
   "cell_type": "code",
   "execution_count": 8,
   "metadata": {},
   "outputs": [
    {
     "name": "stdout",
     "output_type": "stream",
     "text": [
      "<class 'int'>\n",
      "<class 'str'>\n"
     ]
    }
   ],
   "source": [
    "## Type Inference - During runtime we can change the variable type\n",
    "a = 10\n",
    "print(type(a))\n",
    "a = \"john\"\n",
    "print(type(a))"
   ]
  }
 ],
 "metadata": {
  "kernelspec": {
   "display_name": "Python 3",
   "language": "python",
   "name": "python3"
  },
  "language_info": {
   "codemirror_mode": {
    "name": "ipython",
    "version": 3
   },
   "file_extension": ".py",
   "mimetype": "text/x-python",
   "name": "python",
   "nbconvert_exporter": "python",
   "pygments_lexer": "ipython3",
   "version": "3.10.15"
  }
 },
 "nbformat": 4,
 "nbformat_minor": 2
}
