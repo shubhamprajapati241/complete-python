{
 "cells": [
  {
   "cell_type": "markdown",
   "metadata": {},
   "source": [
    "## File Operatio - Read and write files \n",
    "- File Handling is a crucial part of any programming language. \n",
    "- Python provides built-in functions and methods to read afrom and write to files, both text and binary."
   ]
  },
  {
   "cell_type": "code",
   "execution_count": 2,
   "metadata": {},
   "outputs": [
    {
     "name": "stdout",
     "output_type": "stream",
     "text": [
      "Hello - How are you \n",
      "I am good\n"
     ]
    }
   ],
   "source": [
    "## Read the file \n",
    "with open('example.txt', 'r') as file:\n",
    "    content = file.read()\n",
    "    print(content)\n"
   ]
  },
  {
   "cell_type": "code",
   "execution_count": 4,
   "metadata": {},
   "outputs": [
    {
     "name": "stdout",
     "output_type": "stream",
     "text": [
      "Hello - How are you\n",
      "I am good\n"
     ]
    }
   ],
   "source": [
    "## Read a file line by line \n",
    "with open('example.txt', 'r') as file:\n",
    "    for line in file : \n",
    "        print(line.strip()) # strip() - removes the newline character"
   ]
  },
  {
   "cell_type": "code",
   "execution_count": 7,
   "metadata": {},
   "outputs": [],
   "source": [
    "## Writing a file \n",
    "with open('example.txt', 'w') as file:\n",
    "    file.write(\"Hello World \\n\")\n",
    "    file.write(\"Welcome to Python world \\n\")"
   ]
  },
  {
   "cell_type": "code",
   "execution_count": 8,
   "metadata": {},
   "outputs": [],
   "source": [
    "## write a file (without overwriting)\n",
    "with open('example.txt', 'a') as file:\n",
    "    file.write(\"appending new line\")"
   ]
  },
  {
   "cell_type": "code",
   "execution_count": 10,
   "metadata": {},
   "outputs": [],
   "source": [
    "## Writing a list of lines to a file \n",
    "lines = ['first line \\n Second line \\n']\n",
    "with open('example.txt', 'a') as file:\n",
    "    file.writelines(lines)"
   ]
  },
  {
   "cell_type": "code",
   "execution_count": null,
   "metadata": {},
   "outputs": [],
   "source": [
    "## Binary files \n",
    "data = b'\\x00\\x01\\x02\\x03'\n",
    "with open('example.bin', 'wb') as file:\n",
    "    file.write(data)\n"
   ]
  },
  {
   "cell_type": "code",
   "execution_count": null,
   "metadata": {},
   "outputs": [],
   "source": [
    "## Read Binary files \n",
    "data = b'\\x00\\x01\\x02\\x03'\n",
    "with open('example.bin', 'rb') as file:\n",
    "    content = file.read()\n",
    "    print(content)"
   ]
  },
  {
   "cell_type": "code",
   "execution_count": 12,
   "metadata": {},
   "outputs": [],
   "source": [
    "## Read the content from a source text file and write to a destination text file \n",
    "\n",
    "with open('example.txt', 'r') as source_file :\n",
    "    content = source_file.read()\n",
    "\n",
    "with open('destination.txt', 'w') as destination_file:\n",
    "    destination_file.write(content)"
   ]
  },
  {
   "cell_type": "code",
   "execution_count": 13,
   "metadata": {},
   "outputs": [
    {
     "name": "stdout",
     "output_type": "stream",
     "text": [
      "Hello World \n",
      "Welcome to Python world \n",
      "appending new lineI am goodfirst line \n",
      " Second line \n",
      "\n"
     ]
    }
   ],
   "source": [
    "## Writing and then reading a file \n",
    "\n",
    "with open('example.txt', 'w+') as file:\n",
    "    file.write('Hello world ')\n",
    "    file.write(\"This is a new line \\n\")\n",
    "\n",
    "    file.seek(0)\n",
    "\n",
    "    # read the content of the line \n",
    "    print(content)"
   ]
  }
 ],
 "metadata": {
  "kernelspec": {
   "display_name": "Python 3",
   "language": "python",
   "name": "python3"
  },
  "language_info": {
   "codemirror_mode": {
    "name": "ipython",
    "version": 3
   },
   "file_extension": ".py",
   "mimetype": "text/x-python",
   "name": "python",
   "nbconvert_exporter": "python",
   "pygments_lexer": "ipython3",
   "version": "3.10.15"
  }
 },
 "nbformat": 4,
 "nbformat_minor": 2
}
