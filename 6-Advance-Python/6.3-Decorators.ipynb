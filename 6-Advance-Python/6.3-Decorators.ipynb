{
 "cells": [
  {
   "cell_type": "markdown",
   "metadata": {},
   "source": [
    "## Decorators \n",
    "- Decorators are a powerful and flexible feature in Python that allows you to modify the behaviour of a function or class method. \n",
    "- Commonly used to add functionaility to functions or methods without modifing their actual code "
   ]
  },
  {
   "cell_type": "code",
   "execution_count": null,
   "metadata": {},
   "outputs": [],
   "source": [
    "## Function copy \n",
    "## closure\n",
    "## decorator"
   ]
  },
  {
   "cell_type": "code",
   "execution_count": 1,
   "metadata": {},
   "outputs": [
    {
     "data": {
      "text/plain": [
       "'Welcome to Python world'"
      ]
     },
     "execution_count": 1,
     "metadata": {},
     "output_type": "execute_result"
    }
   ],
   "source": [
    "## Functions \n",
    "def welcome():\n",
    "    return \"Welcome to Python world\"  \n",
    "\n",
    "welcome()"
   ]
  },
  {
   "cell_type": "code",
   "execution_count": 3,
   "metadata": {},
   "outputs": [
    {
     "data": {
      "text/plain": [
       "'Welcome to Python world'"
      ]
     },
     "execution_count": 3,
     "metadata": {},
     "output_type": "execute_result"
    }
   ],
   "source": [
    "wel = welcome \n",
    "wel()\n",
    "\n",
    "del welcome\n",
    "wel()"
   ]
  },
  {
   "cell_type": "code",
   "execution_count": 5,
   "metadata": {},
   "outputs": [
    {
     "name": "stdout",
     "output_type": "stream",
     "text": [
      "sub_welcome\n",
      "main_welcome\n"
     ]
    }
   ],
   "source": [
    "## Closures - functions inside the function\n",
    "\n",
    "def main_welcome():\n",
    "    msg = \"main_welcome\"\n",
    "\n",
    "    def sub_welcome():\n",
    "        print(\"sub_welcome\")\n",
    "        print(msg)\n",
    "    \n",
    "    return sub_welcome()\n",
    "\n",
    "main_welcome()"
   ]
  },
  {
   "cell_type": "code",
   "execution_count": 8,
   "metadata": {},
   "outputs": [
    {
     "name": "stdout",
     "output_type": "stream",
     "text": [
      "sub_welcome\n",
      "Your are in sub_Welcome\n",
      "sub_welcome2\n"
     ]
    }
   ],
   "source": [
    "# Passing function withing function parameters\n",
    "def main_welcome(func):\n",
    "    msg = \"main_welcome\"\n",
    "\n",
    "    def sub_welcome():\n",
    "        print(\"sub_welcome\")\n",
    "        func(\"Your are in sub_Welcome\")\n",
    "        print(\"sub_welcome2\")\n",
    "\n",
    "    return sub_welcome()\n",
    "\n",
    "main_welcome(print)\n",
    "\n"
   ]
  },
  {
   "cell_type": "code",
   "execution_count": 14,
   "metadata": {},
   "outputs": [
    {
     "name": "stdout",
     "output_type": "stream",
     "text": [
      "sub_welcome\n",
      "introduction called\n"
     ]
    }
   ],
   "source": [
    "## Doing above with decoration\n",
    "@main_welcome\n",
    "def introduction():\n",
    "    print(\"introduction called\")"
   ]
  },
  {
   "cell_type": "code",
   "execution_count": 17,
   "metadata": {},
   "outputs": [
    {
     "name": "stdout",
     "output_type": "stream",
     "text": [
      "before function call\n",
      "hello\n",
      "after function call\n"
     ]
    }
   ],
   "source": [
    "## More decorators\n",
    "\n",
    "def my_decoration(func):\n",
    "    def wrapper():\n",
    "        print(\"before function call\")\n",
    "        func()\n",
    "        print(\"after function call\")\n",
    "    return wrapper\n",
    "\n",
    "@my_decoration\n",
    "def say_hello():\n",
    "    print(\"hello\")\n",
    "\n",
    "say_hello()\n"
   ]
  },
  {
   "cell_type": "code",
   "execution_count": 18,
   "metadata": {},
   "outputs": [],
   "source": [
    "## Decorators with arguments \n",
    "def repeat(n):\n",
    "    def decorator(func):\n",
    "        def wrapper(*args, **kwargs):\n",
    "            for _ in range(n):\n",
    "                func(*args, **kwargs)\n",
    "        return wrapper\n",
    "    return decorator"
   ]
  },
  {
   "cell_type": "code",
   "execution_count": 20,
   "metadata": {},
   "outputs": [
    {
     "name": "stdout",
     "output_type": "stream",
     "text": [
      "Hello\n",
      "Hello\n",
      "Hello\n"
     ]
    }
   ],
   "source": [
    "@repeat(3)\n",
    "def say_hello():\n",
    "    print(\"Hello\")\n",
    "\n",
    "say_hello()"
   ]
  },
  {
   "cell_type": "code",
   "execution_count": null,
   "metadata": {},
   "outputs": [],
   "source": []
  }
 ],
 "metadata": {
  "kernelspec": {
   "display_name": "Python 3",
   "language": "python",
   "name": "python3"
  },
  "language_info": {
   "codemirror_mode": {
    "name": "ipython",
    "version": 3
   },
   "file_extension": ".py",
   "mimetype": "text/x-python",
   "name": "python",
   "nbconvert_exporter": "python",
   "pygments_lexer": "ipython3",
   "version": "3.10.15"
  }
 },
 "nbformat": 4,
 "nbformat_minor": 2
}
